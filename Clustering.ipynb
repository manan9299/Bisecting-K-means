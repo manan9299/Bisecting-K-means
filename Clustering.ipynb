{
 "cells": [
  {
   "cell_type": "code",
   "execution_count": 0,
   "metadata": {
    "colab": {
     "base_uri": "https://localhost:8080/",
     "height": 34
    },
    "colab_type": "code",
    "id": "yU2xmbncEEcH",
    "outputId": "dd98f2a5-d2a8-450c-833d-6684372c440b"
   },
   "outputs": [
    {
     "name": "stdout",
     "output_type": "stream",
     "text": [
      "Drive already mounted at /content/drive; to attempt to forcibly remount, call drive.mount(\"/content/drive\", force_remount=True).\n"
     ]
    }
   ],
   "source": [
    "import numpy as np\n",
    "import random\n",
    "from google.colab import drive\n",
    "from collections import defaultdict\n",
    "from scipy.sparse import csr_matrix\n",
    "from sklearn.utils import shuffle\n",
    "from sklearn.decomposition import TruncatedSVD\n",
    "from sklearn.metrics import calinski_harabaz_score\n",
    "\n",
    "drive.mount('/content/drive')"
   ]
  },
  {
   "cell_type": "code",
   "execution_count": 0,
   "metadata": {
    "colab": {},
    "colab_type": "code",
    "id": "QkdjNgCbEEcN"
   },
   "outputs": [],
   "source": [
    "def read_file(fname, nidx=1):\n",
    "    \n",
    "    with open('/content/drive/My Drive/CMPE255/' + fname) as f:\n",
    "        lines = f.readlines()\n",
    "        \n",
    "    nrows = len(lines)\n",
    "    ncols = 0 \n",
    "    nnz = 0 \n",
    "\n",
    "    for i in range(nrows):\n",
    "        p = lines[i].split()\n",
    "        if len(p) % 2 != 0:\n",
    "            raise ValueError(\"Invalid CSR matrix. Row %d contains %d numbers.\" % (i, len(p)))\n",
    "        \n",
    "        nnz += len(p)/2\n",
    "\n",
    "        for j in range(0, len(p), 2): \n",
    "            col_id = int(p[j]) - nidx\n",
    "            if col_id+1 > ncols:\n",
    "                ncols = col_id + 1\n",
    "    \n",
    "    val = np.zeros(int(nnz), dtype=np.float)\n",
    "    ind = np.zeros(int(nnz), dtype=np.int)\n",
    "    ptr = np.zeros(nrows+1, dtype=np.long)\n",
    "    n = 0 \n",
    "    for i in range(nrows):\n",
    "        p = lines[i].split()\n",
    "        for j in range(0, len(p), 2): \n",
    "            ind[n] = int(p[j]) - nidx\n",
    "            val[n] = float(p[j+1])\n",
    "            n += 1\n",
    "        ptr[i+1] = n\n",
    "    \n",
    "    return csr_matrix((val, ind, ptr), shape=(nrows, ncols), dtype=np.float)"
   ]
  },
  {
   "cell_type": "code",
   "execution_count": 0,
   "metadata": {
    "colab": {},
    "colab_type": "code",
    "id": "UPr3ncDdEEcP"
   },
   "outputs": [],
   "source": [
    "def csr_idf(matrix, copy=False, **kargs):\n",
    "    r\"\"\" Scale a CSR matrix by idf. \n",
    "    Returns scaling factors as dict. If copy is True, \n",
    "    returns scaled matrix and scaling factors.\n",
    "    \"\"\"\n",
    "    if copy is True:\n",
    "        matrix = matrix.copy()\n",
    "    nrows = matrix.shape[0]\n",
    "    nnz = matrix.nnz\n",
    "    ind, val, ptr = matrix.indices, matrix.data, matrix.indptr\n",
    "    # document frequency\n",
    "    df = defaultdict(int)\n",
    "    for i in ind:\n",
    "        df[i] += 1\n",
    "    # inverse document frequency\n",
    "    for k,v in df.items():\n",
    "        df[k] = np.log(nrows / float(v))  ## df turns to idf - reusing memory\n",
    "    # scale by idf\n",
    "    for i in range(0, nnz):\n",
    "        val[i] *= df[ind[i]]\n",
    "        \n",
    "    return df if copy is False else matrix"
   ]
  },
  {
   "cell_type": "code",
   "execution_count": 0,
   "metadata": {
    "colab": {},
    "colab_type": "code",
    "id": "xk7fF_IkEEcW"
   },
   "outputs": [],
   "source": [
    "def initialCentroids(matrix):\n",
    "    matrixShuffled = shuffle(matrix, random_state=0)\n",
    "    return matrixShuffled[:2,:]"
   ]
  },
  {
   "cell_type": "code",
   "execution_count": 0,
   "metadata": {
    "colab": {},
    "colab_type": "code",
    "id": "CnI28keDEEcZ"
   },
   "outputs": [],
   "source": [
    "def similarity(matrix, centroids):\n",
    "    similarities = matrix.dot(centroids.T)\n",
    "    return similarities"
   ]
  },
  {
   "cell_type": "code",
   "execution_count": 0,
   "metadata": {
    "colab": {},
    "colab_type": "code",
    "id": "9a944fgdEEcc"
   },
   "outputs": [],
   "source": [
    "def findClusters(matrix, centroids):\n",
    "    \n",
    "    clusterA = list()\n",
    "    clusterB = list()\n",
    "    \n",
    "    similarityMatrix = similarity(matrix, centroids)\n",
    "    \n",
    "    for index in range(similarityMatrix.shape[0]):\n",
    "        similarityRow = similarityMatrix[index]\n",
    "        \n",
    "        #Sort the index of the matrix in ascending order of value and get the index of the last element\n",
    "        #This index will be the cluster that the row in input matrix will belong to\n",
    "        similaritySorted = np.argsort(similarityRow)[-1]\n",
    "        \n",
    "        if similaritySorted == 0:\n",
    "            clusterA.append(index)\n",
    "        else:\n",
    "            clusterB.append(index)\n",
    "        \n",
    "    return clusterA, clusterB"
   ]
  },
  {
   "cell_type": "code",
   "execution_count": 0,
   "metadata": {
    "colab": {},
    "colab_type": "code",
    "id": "XxlR_huCEEce"
   },
   "outputs": [],
   "source": [
    "def recalculateCentroid(matrix, clusters):\n",
    "    centroids = list()\n",
    "    \n",
    "    for i in range(0,2):\n",
    "        cluster = matrix[clusters[i],:]\n",
    "        clusterMean = cluster.mean(0)\n",
    "        centroids.append(clusterMean)\n",
    "        \n",
    "    centroids_array = np.asarray(centroids)\n",
    "    \n",
    "    return centroids_array"
   ]
  },
  {
   "cell_type": "code",
   "execution_count": 0,
   "metadata": {
    "colab": {},
    "colab_type": "code",
    "id": "3P8j2nmaEEch"
   },
   "outputs": [],
   "source": [
    "def kmeans(matrix, numberOfIterations):\n",
    "    \n",
    "    centroids = initialCentroids(matrix)\n",
    "    \n",
    "    for _ in range(numberOfIterations):\n",
    "        \n",
    "        clusters = list()\n",
    "        \n",
    "        clusterA, clusterB = findClusters(matrix, centroids)\n",
    "        \n",
    "        if len(clusterA) > 1:\n",
    "            clusters.append(clusterA)\n",
    "        if len(clusterB) > 1:\n",
    "            clusters.append(clusterB)\n",
    "            \n",
    "        centroids = recalculateCentroid(matrix, clusters)\n",
    "        \n",
    "    return clusterA, clusterB"
   ]
  },
  {
   "cell_type": "code",
   "execution_count": 0,
   "metadata": {
    "colab": {},
    "colab_type": "code",
    "id": "hd68QzneEEcj"
   },
   "outputs": [],
   "source": [
    "def calculateSSE(matrix, clusters):\n",
    "    \n",
    "    SSE_list = list()\n",
    "    SSE_array = []\n",
    "    \n",
    "    for cluster in clusters:\n",
    "        members = matrix[cluster,:]\n",
    "        SSE = np.sum(np.square(members - np.mean(members)))\n",
    "        SSE_list.append(SSE)\n",
    "        \n",
    "    SSE_array = np.asarray(SSE_list)\n",
    "    dropClusterIndex = np.argsort(SSE_array)[-1]\n",
    "            \n",
    "    return dropClusterIndex"
   ]
  },
  {
   "cell_type": "code",
   "execution_count": 0,
   "metadata": {
    "colab": {},
    "colab_type": "code",
    "id": "vvw_1kbQEEcm"
   },
   "outputs": [],
   "source": [
    "def bisecting_kmeans(matrix, k, numberOfIterations):\n",
    "    \n",
    "    clusters = list()\n",
    "    \n",
    "    initialcluster = list()\n",
    "    for i in range(matrix.shape[0]):\n",
    "        initialcluster.append(i)\n",
    "    \n",
    "    clusters.append(initialcluster)\n",
    "    \n",
    "    while len(clusters) < k:\n",
    "\n",
    "        dropClusterIndex = calculateSSE(matrix, clusters)\n",
    "        droppedCluster = clusters[dropClusterIndex]\n",
    "        \n",
    "        clusterA, clusterB = kmeans(matrix[droppedCluster,:], numberOfIterations)\n",
    "        del clusters[dropClusterIndex]\n",
    "        \n",
    "        actualClusterA = list()\n",
    "        actualClusterB = list()\n",
    "        for index in clusterA:\n",
    "            actualClusterA.append(droppedCluster[index])\n",
    "            \n",
    "        for index in clusterB:\n",
    "            actualClusterB.append(droppedCluster[index])\n",
    "        \n",
    "        clusters.append(actualClusterA)\n",
    "        clusters.append(actualClusterB)\n",
    "    \n",
    "    labels = [0] * matrix.shape[0]\n",
    "\n",
    "    for index, cluster in enumerate(clusters):\n",
    "        for idx in cluster:\n",
    "            labels[idx] = index + 1\n",
    "    return labels"
   ]
  },
  {
   "cell_type": "code",
   "execution_count": 0,
   "metadata": {
    "colab": {},
    "colab_type": "code",
    "id": "MitMLhuuEEcp"
   },
   "outputs": [],
   "source": [
    "#Read CSR matrix from the input file\n",
    "csrMatrix = read_file('train.dat', nidx=1)\n",
    "\n",
    "#Scale the CSR matrix by idf (Inverse Document Frequency)\n",
    "csrIDF = csr_idf(csrMatrix, copy=True)\n",
    "\n",
    "tsvd = TruncatedSVD(n_components=200)\n",
    "denseMatrix = tsvd.fit_transform(csrIDF)"
   ]
  },
  {
   "cell_type": "code",
   "execution_count": 0,
   "metadata": {
    "colab": {
     "base_uri": "https://localhost:8080/",
     "height": 34
    },
    "colab_type": "code",
    "id": "wMNt0rzzZDyN",
    "outputId": "1bfb17d7-77a8-447b-b96e-b6e309ac8ebf"
   },
   "outputs": [
    {
     "data": {
      "text/plain": [
       "(8580, 200)"
      ]
     },
     "execution_count": 28,
     "metadata": {
      "tags": []
     },
     "output_type": "execute_result"
    }
   ],
   "source": [
    "denseMatrix.shape"
   ]
  },
  {
   "cell_type": "code",
   "execution_count": 0,
   "metadata": {
    "colab": {
     "base_uri": "https://localhost:8080/",
     "height": 547
    },
    "colab_type": "code",
    "id": "G-77un2FEEcs",
    "outputId": "b954edc8-6267-49e4-dc05-40b61faac989"
   },
   "outputs": [
    {
     "name": "stderr",
     "output_type": "stream",
     "text": [
      "/usr/local/lib/python3.6/dist-packages/sklearn/utils/deprecation.py:87: FutureWarning: Function calinski_harabaz_score is deprecated; Function 'calinski_harabaz_score' has been renamed to 'calinski_harabasz_score' and will be removed in version 0.23.\n",
      "  warnings.warn(msg, category=FutureWarning)\n"
     ]
    },
    {
     "name": "stdout",
     "output_type": "stream",
     "text": [
      "For K= 3 Calinski Harabaz Score is 109.423152\n"
     ]
    },
    {
     "name": "stderr",
     "output_type": "stream",
     "text": [
      "/usr/local/lib/python3.6/dist-packages/sklearn/utils/deprecation.py:87: FutureWarning: Function calinski_harabaz_score is deprecated; Function 'calinski_harabaz_score' has been renamed to 'calinski_harabasz_score' and will be removed in version 0.23.\n",
      "  warnings.warn(msg, category=FutureWarning)\n"
     ]
    },
    {
     "name": "stdout",
     "output_type": "stream",
     "text": [
      "For K= 5 Calinski Harabaz Score is 98.072289\n"
     ]
    },
    {
     "name": "stderr",
     "output_type": "stream",
     "text": [
      "/usr/local/lib/python3.6/dist-packages/sklearn/utils/deprecation.py:87: FutureWarning: Function calinski_harabaz_score is deprecated; Function 'calinski_harabaz_score' has been renamed to 'calinski_harabasz_score' and will be removed in version 0.23.\n",
      "  warnings.warn(msg, category=FutureWarning)\n"
     ]
    },
    {
     "name": "stdout",
     "output_type": "stream",
     "text": [
      "For K= 7 Calinski Harabaz Score is 87.832870\n"
     ]
    },
    {
     "name": "stderr",
     "output_type": "stream",
     "text": [
      "/usr/local/lib/python3.6/dist-packages/sklearn/utils/deprecation.py:87: FutureWarning: Function calinski_harabaz_score is deprecated; Function 'calinski_harabaz_score' has been renamed to 'calinski_harabasz_score' and will be removed in version 0.23.\n",
      "  warnings.warn(msg, category=FutureWarning)\n"
     ]
    },
    {
     "name": "stdout",
     "output_type": "stream",
     "text": [
      "For K= 9 Calinski Harabaz Score is 80.300835\n"
     ]
    },
    {
     "name": "stderr",
     "output_type": "stream",
     "text": [
      "/usr/local/lib/python3.6/dist-packages/sklearn/utils/deprecation.py:87: FutureWarning: Function calinski_harabaz_score is deprecated; Function 'calinski_harabaz_score' has been renamed to 'calinski_harabasz_score' and will be removed in version 0.23.\n",
      "  warnings.warn(msg, category=FutureWarning)\n"
     ]
    },
    {
     "name": "stdout",
     "output_type": "stream",
     "text": [
      "For K= 11 Calinski Harabaz Score is 79.805075\n"
     ]
    },
    {
     "name": "stderr",
     "output_type": "stream",
     "text": [
      "/usr/local/lib/python3.6/dist-packages/sklearn/utils/deprecation.py:87: FutureWarning: Function calinski_harabaz_score is deprecated; Function 'calinski_harabaz_score' has been renamed to 'calinski_harabasz_score' and will be removed in version 0.23.\n",
      "  warnings.warn(msg, category=FutureWarning)\n"
     ]
    },
    {
     "name": "stdout",
     "output_type": "stream",
     "text": [
      "For K= 13 Calinski Harabaz Score is 69.122543\n"
     ]
    },
    {
     "name": "stderr",
     "output_type": "stream",
     "text": [
      "/usr/local/lib/python3.6/dist-packages/sklearn/utils/deprecation.py:87: FutureWarning: Function calinski_harabaz_score is deprecated; Function 'calinski_harabaz_score' has been renamed to 'calinski_harabasz_score' and will be removed in version 0.23.\n",
      "  warnings.warn(msg, category=FutureWarning)\n"
     ]
    },
    {
     "name": "stdout",
     "output_type": "stream",
     "text": [
      "For K= 15 Calinski Harabaz Score is 66.437620\n"
     ]
    },
    {
     "name": "stderr",
     "output_type": "stream",
     "text": [
      "/usr/local/lib/python3.6/dist-packages/sklearn/utils/deprecation.py:87: FutureWarning: Function calinski_harabaz_score is deprecated; Function 'calinski_harabaz_score' has been renamed to 'calinski_harabasz_score' and will be removed in version 0.23.\n",
      "  warnings.warn(msg, category=FutureWarning)\n"
     ]
    },
    {
     "name": "stdout",
     "output_type": "stream",
     "text": [
      "For K= 17 Calinski Harabaz Score is 62.216180\n"
     ]
    },
    {
     "name": "stderr",
     "output_type": "stream",
     "text": [
      "/usr/local/lib/python3.6/dist-packages/sklearn/utils/deprecation.py:87: FutureWarning: Function calinski_harabaz_score is deprecated; Function 'calinski_harabaz_score' has been renamed to 'calinski_harabasz_score' and will be removed in version 0.23.\n",
      "  warnings.warn(msg, category=FutureWarning)\n"
     ]
    },
    {
     "name": "stdout",
     "output_type": "stream",
     "text": [
      "For K= 19 Calinski Harabaz Score is 58.943918\n",
      "For K= 21 Calinski Harabaz Score is 54.631798\n"
     ]
    },
    {
     "name": "stderr",
     "output_type": "stream",
     "text": [
      "/usr/local/lib/python3.6/dist-packages/sklearn/utils/deprecation.py:87: FutureWarning: Function calinski_harabaz_score is deprecated; Function 'calinski_harabaz_score' has been renamed to 'calinski_harabasz_score' and will be removed in version 0.23.\n",
      "  warnings.warn(msg, category=FutureWarning)\n"
     ]
    }
   ],
   "source": [
    "kValues = list()\n",
    "scores = list()\n",
    "\n",
    "for k in range(3, 22, 2):\n",
    "    labels = bisecting_kmeans(denseMatrix, k, 10)\n",
    "        # write result to output file\n",
    "    if(k == 7):\n",
    "        outputFile = open(\"/content/drive/My Drive/CMPE255/format.csv\", \"w+\")\n",
    "        outputFile.write(\"ItemID,ClusterID\\n\")\n",
    "        for index in range(len(labels)):\n",
    "            outputFile.write(str(index + 1) + \",\" + str(labels[index]) + '\\n')\n",
    "        outputFile.close()\n",
    "    score = calinski_harabaz_score(denseMatrix, labels)\n",
    "    kValues.append(k)\n",
    "    scores.append(score)\n",
    "    print (\"For K= %d Calinski Harabaz Score is %f\" %(k, score))"
   ]
  },
  {
   "cell_type": "code",
   "execution_count": 0,
   "metadata": {
    "colab": {
     "base_uri": "https://localhost:8080/",
     "height": 295
    },
    "colab_type": "code",
    "id": "G38-s-aSj3Q6",
    "outputId": "0e03f71a-78b0-4b37-841e-40aac77c724f"
   },
   "outputs": [
    {
     "data": {
      "image/png": "[encoded data removed]",
      "text/plain": [
       "<Figure size 432x288 with 1 Axes>"
      ]
     },
     "metadata": {
      "tags": []
     },
     "output_type": "display_data"
    }
   ],
   "source": [
    "%matplotlib inline\n",
    "import matplotlib.pyplot as plt\n",
    "\n",
    "plt.plot(kValues, scores)\n",
    "plt.xticks(kValues, kValues)\n",
    "plt.xlabel('Number of Clusters k')\n",
    "plt.ylabel('Calinski and Harabaz Score')\n",
    "plt.title('Trend of Average Distance to Centroid/Diameter')\n",
    "plt.grid(linestyle='dotted')\n",
    "\n",
    "plt.savefig('plot.png')\n",
    "plt.show()"
   ]
  },
  {
   "cell_type": "code",
   "execution_count": 0,
   "metadata": {
    "colab": {},
    "colab_type": "code",
    "id": "XjoUdkY4kAWk"
   },
   "outputs": [],
   "source": []
  }
 ],
 "metadata": {
  "colab": {
   "machine_shape": "hm",
   "name": "Clustering.ipynb",
   "provenance": []
  },
  "kernelspec": {
   "display_name": "Python 3",
   "language": "python",
   "name": "python3"
  },
  "language_info": {
   "codemirror_mode": {
    "name": "ipython",
    "version": 3
   },
   "file_extension": ".py",
   "mimetype": "text/x-python",
   "name": "python",
   "nbconvert_exporter": "python",
   "pygments_lexer": "ipython3",
   "version": "3.7.4"
  }
 },
 "nbformat": 4,
 "nbformat_minor": 1
}
